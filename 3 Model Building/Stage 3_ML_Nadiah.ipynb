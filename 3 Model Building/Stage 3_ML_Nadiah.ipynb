{
 "cells": [
  {
   "cell_type": "code",
   "execution_count": 1,
   "id": "f5f5f78c-c5a6-46fe-a456-0470e5e629f2",
   "metadata": {},
   "outputs": [
    {
     "data": {
      "text/html": [
       "<div>\n",
       "<style scoped>\n",
       "    .dataframe tbody tr th:only-of-type {\n",
       "        vertical-align: middle;\n",
       "    }\n",
       "\n",
       "    .dataframe tbody tr th {\n",
       "        vertical-align: top;\n",
       "    }\n",
       "\n",
       "    .dataframe thead th {\n",
       "        text-align: right;\n",
       "    }\n",
       "</style>\n",
       "<table border=\"1\" class=\"dataframe\">\n",
       "  <thead>\n",
       "    <tr style=\"text-align: right;\">\n",
       "      <th></th>\n",
       "      <th>CustomerID</th>\n",
       "      <th>ProdTaken</th>\n",
       "      <th>Age</th>\n",
       "      <th>TypeofContact</th>\n",
       "      <th>CityTier</th>\n",
       "      <th>DurationOfPitch</th>\n",
       "      <th>Occupation</th>\n",
       "      <th>Gender</th>\n",
       "      <th>NumberOfPersonVisiting</th>\n",
       "      <th>NumberOfFollowups</th>\n",
       "      <th>ProductPitched</th>\n",
       "      <th>PreferredPropertyStar</th>\n",
       "      <th>MaritalStatus</th>\n",
       "      <th>NumberOfTrips</th>\n",
       "      <th>Passport</th>\n",
       "      <th>PitchSatisfactionScore</th>\n",
       "      <th>OwnCar</th>\n",
       "      <th>NumberOfChildrenVisiting</th>\n",
       "      <th>Designation</th>\n",
       "      <th>MonthlyIncome</th>\n",
       "    </tr>\n",
       "  </thead>\n",
       "  <tbody>\n",
       "    <tr>\n",
       "      <th>0</th>\n",
       "      <td>200000</td>\n",
       "      <td>1</td>\n",
       "      <td>41.0</td>\n",
       "      <td>Self Enquiry</td>\n",
       "      <td>3</td>\n",
       "      <td>6.0</td>\n",
       "      <td>Salaried</td>\n",
       "      <td>Female</td>\n",
       "      <td>3</td>\n",
       "      <td>3.0</td>\n",
       "      <td>Deluxe</td>\n",
       "      <td>3.0</td>\n",
       "      <td>Single</td>\n",
       "      <td>1.0</td>\n",
       "      <td>1</td>\n",
       "      <td>2</td>\n",
       "      <td>1</td>\n",
       "      <td>0.0</td>\n",
       "      <td>Manager</td>\n",
       "      <td>20993.0</td>\n",
       "    </tr>\n",
       "    <tr>\n",
       "      <th>1</th>\n",
       "      <td>200001</td>\n",
       "      <td>0</td>\n",
       "      <td>49.0</td>\n",
       "      <td>Company Invited</td>\n",
       "      <td>1</td>\n",
       "      <td>14.0</td>\n",
       "      <td>Salaried</td>\n",
       "      <td>Male</td>\n",
       "      <td>3</td>\n",
       "      <td>4.0</td>\n",
       "      <td>Deluxe</td>\n",
       "      <td>4.0</td>\n",
       "      <td>Divorced</td>\n",
       "      <td>2.0</td>\n",
       "      <td>0</td>\n",
       "      <td>3</td>\n",
       "      <td>1</td>\n",
       "      <td>2.0</td>\n",
       "      <td>Manager</td>\n",
       "      <td>20130.0</td>\n",
       "    </tr>\n",
       "    <tr>\n",
       "      <th>2</th>\n",
       "      <td>200002</td>\n",
       "      <td>1</td>\n",
       "      <td>37.0</td>\n",
       "      <td>Self Enquiry</td>\n",
       "      <td>1</td>\n",
       "      <td>8.0</td>\n",
       "      <td>Free Lancer</td>\n",
       "      <td>Male</td>\n",
       "      <td>3</td>\n",
       "      <td>4.0</td>\n",
       "      <td>Basic</td>\n",
       "      <td>3.0</td>\n",
       "      <td>Single</td>\n",
       "      <td>7.0</td>\n",
       "      <td>1</td>\n",
       "      <td>3</td>\n",
       "      <td>0</td>\n",
       "      <td>0.0</td>\n",
       "      <td>Executive</td>\n",
       "      <td>17090.0</td>\n",
       "    </tr>\n",
       "    <tr>\n",
       "      <th>3</th>\n",
       "      <td>200003</td>\n",
       "      <td>0</td>\n",
       "      <td>33.0</td>\n",
       "      <td>Company Invited</td>\n",
       "      <td>1</td>\n",
       "      <td>9.0</td>\n",
       "      <td>Salaried</td>\n",
       "      <td>Female</td>\n",
       "      <td>2</td>\n",
       "      <td>3.0</td>\n",
       "      <td>Basic</td>\n",
       "      <td>3.0</td>\n",
       "      <td>Divorced</td>\n",
       "      <td>2.0</td>\n",
       "      <td>1</td>\n",
       "      <td>5</td>\n",
       "      <td>1</td>\n",
       "      <td>1.0</td>\n",
       "      <td>Executive</td>\n",
       "      <td>17909.0</td>\n",
       "    </tr>\n",
       "    <tr>\n",
       "      <th>4</th>\n",
       "      <td>200004</td>\n",
       "      <td>0</td>\n",
       "      <td>NaN</td>\n",
       "      <td>Self Enquiry</td>\n",
       "      <td>1</td>\n",
       "      <td>8.0</td>\n",
       "      <td>Small Business</td>\n",
       "      <td>Male</td>\n",
       "      <td>2</td>\n",
       "      <td>3.0</td>\n",
       "      <td>Basic</td>\n",
       "      <td>4.0</td>\n",
       "      <td>Divorced</td>\n",
       "      <td>1.0</td>\n",
       "      <td>0</td>\n",
       "      <td>5</td>\n",
       "      <td>1</td>\n",
       "      <td>0.0</td>\n",
       "      <td>Executive</td>\n",
       "      <td>18468.0</td>\n",
       "    </tr>\n",
       "  </tbody>\n",
       "</table>\n",
       "</div>"
      ],
      "text/plain": [
       "   CustomerID  ProdTaken   Age    TypeofContact  CityTier  DurationOfPitch  \\\n",
       "0      200000          1  41.0     Self Enquiry         3              6.0   \n",
       "1      200001          0  49.0  Company Invited         1             14.0   \n",
       "2      200002          1  37.0     Self Enquiry         1              8.0   \n",
       "3      200003          0  33.0  Company Invited         1              9.0   \n",
       "4      200004          0   NaN     Self Enquiry         1              8.0   \n",
       "\n",
       "       Occupation  Gender  NumberOfPersonVisiting  NumberOfFollowups  \\\n",
       "0        Salaried  Female                       3                3.0   \n",
       "1        Salaried    Male                       3                4.0   \n",
       "2     Free Lancer    Male                       3                4.0   \n",
       "3        Salaried  Female                       2                3.0   \n",
       "4  Small Business    Male                       2                3.0   \n",
       "\n",
       "  ProductPitched  PreferredPropertyStar MaritalStatus  NumberOfTrips  \\\n",
       "0         Deluxe                    3.0        Single            1.0   \n",
       "1         Deluxe                    4.0      Divorced            2.0   \n",
       "2          Basic                    3.0        Single            7.0   \n",
       "3          Basic                    3.0      Divorced            2.0   \n",
       "4          Basic                    4.0      Divorced            1.0   \n",
       "\n",
       "   Passport  PitchSatisfactionScore  OwnCar  NumberOfChildrenVisiting  \\\n",
       "0         1                       2       1                       0.0   \n",
       "1         0                       3       1                       2.0   \n",
       "2         1                       3       0                       0.0   \n",
       "3         1                       5       1                       1.0   \n",
       "4         0                       5       1                       0.0   \n",
       "\n",
       "  Designation  MonthlyIncome  \n",
       "0     Manager        20993.0  \n",
       "1     Manager        20130.0  \n",
       "2   Executive        17090.0  \n",
       "3   Executive        17909.0  \n",
       "4   Executive        18468.0  "
      ]
     },
     "execution_count": 1,
     "metadata": {},
     "output_type": "execute_result"
    }
   ],
   "source": [
    "import pandas as pd\n",
    "import numpy as np\n",
    "import matplotlib.ticker as mtick\n",
    "\n",
    "df = pd.read_csv('Travel.csv')\n",
    "df.head()"
   ]
  },
  {
   "cell_type": "code",
   "execution_count": 12,
   "id": "855db716-6ea5-4032-b6e9-a49edb488416",
   "metadata": {},
   "outputs": [
    {
     "data": {
      "text/plain": [
       "(4888, 20)"
      ]
     },
     "execution_count": 12,
     "metadata": {},
     "output_type": "execute_result"
    }
   ],
   "source": [
    "df.shape"
   ]
  },
  {
   "cell_type": "code",
   "execution_count": 2,
   "id": "1fbaabe6-1561-4b73-a0ac-d4cd4682a1c5",
   "metadata": {},
   "outputs": [
    {
     "data": {
      "text/html": [
       "<div>\n",
       "<style scoped>\n",
       "    .dataframe tbody tr th:only-of-type {\n",
       "        vertical-align: middle;\n",
       "    }\n",
       "\n",
       "    .dataframe tbody tr th {\n",
       "        vertical-align: top;\n",
       "    }\n",
       "\n",
       "    .dataframe thead th {\n",
       "        text-align: right;\n",
       "    }\n",
       "</style>\n",
       "<table border=\"1\" class=\"dataframe\">\n",
       "  <thead>\n",
       "    <tr style=\"text-align: right;\">\n",
       "      <th></th>\n",
       "      <th>Designation</th>\n",
       "      <th>Passport</th>\n",
       "      <th>CityTier</th>\n",
       "      <th>MaritalStatus</th>\n",
       "      <th>Occupation</th>\n",
       "      <th>MonthlyIncome</th>\n",
       "      <th>Age</th>\n",
       "      <th>PreferredPropertyStar</th>\n",
       "      <th>NumberOfFollowups</th>\n",
       "      <th>NumberOfPersonVisiting</th>\n",
       "      <th>NumberOfChildrenVisiting</th>\n",
       "      <th>ProductPitched</th>\n",
       "    </tr>\n",
       "  </thead>\n",
       "  <tbody>\n",
       "    <tr>\n",
       "      <th>0</th>\n",
       "      <td>Manager</td>\n",
       "      <td>1</td>\n",
       "      <td>3</td>\n",
       "      <td>Single</td>\n",
       "      <td>Salaried</td>\n",
       "      <td>20993.0</td>\n",
       "      <td>41.0</td>\n",
       "      <td>3.0</td>\n",
       "      <td>3.0</td>\n",
       "      <td>3</td>\n",
       "      <td>0.0</td>\n",
       "      <td>Deluxe</td>\n",
       "    </tr>\n",
       "    <tr>\n",
       "      <th>1</th>\n",
       "      <td>Manager</td>\n",
       "      <td>0</td>\n",
       "      <td>1</td>\n",
       "      <td>Divorced</td>\n",
       "      <td>Salaried</td>\n",
       "      <td>20130.0</td>\n",
       "      <td>49.0</td>\n",
       "      <td>4.0</td>\n",
       "      <td>4.0</td>\n",
       "      <td>3</td>\n",
       "      <td>2.0</td>\n",
       "      <td>Deluxe</td>\n",
       "    </tr>\n",
       "    <tr>\n",
       "      <th>2</th>\n",
       "      <td>Executive</td>\n",
       "      <td>1</td>\n",
       "      <td>1</td>\n",
       "      <td>Single</td>\n",
       "      <td>Free Lancer</td>\n",
       "      <td>17090.0</td>\n",
       "      <td>37.0</td>\n",
       "      <td>3.0</td>\n",
       "      <td>4.0</td>\n",
       "      <td>3</td>\n",
       "      <td>0.0</td>\n",
       "      <td>Basic</td>\n",
       "    </tr>\n",
       "  </tbody>\n",
       "</table>\n",
       "</div>"
      ],
      "text/plain": [
       "  Designation  Passport  CityTier MaritalStatus   Occupation  MonthlyIncome  \\\n",
       "0     Manager         1         3        Single     Salaried        20993.0   \n",
       "1     Manager         0         1      Divorced     Salaried        20130.0   \n",
       "2   Executive         1         1        Single  Free Lancer        17090.0   \n",
       "\n",
       "    Age  PreferredPropertyStar  NumberOfFollowups  NumberOfPersonVisiting  \\\n",
       "0  41.0                    3.0                3.0                       3   \n",
       "1  49.0                    4.0                4.0                       3   \n",
       "2  37.0                    3.0                4.0                       3   \n",
       "\n",
       "   NumberOfChildrenVisiting ProductPitched  \n",
       "0                       0.0         Deluxe  \n",
       "1                       2.0         Deluxe  \n",
       "2                       0.0          Basic  "
      ]
     },
     "execution_count": 2,
     "metadata": {},
     "output_type": "execute_result"
    }
   ],
   "source": [
    "df_selected = df[['Designation', 'Passport', 'CityTier', 'MaritalStatus', \n",
    "                  'Occupation', 'MonthlyIncome',  'Age', 'PreferredPropertyStar'\n",
    "                  ,'NumberOfFollowups', 'NumberOfPersonVisiting', 'NumberOfChildrenVisiting', \n",
    "                  'ProductPitched']].copy()\n",
    "df_selected.head(3)"
   ]
  },
  {
   "cell_type": "code",
   "execution_count": 3,
   "id": "d6de1e10-f131-4860-912c-e9cc5d262409",
   "metadata": {},
   "outputs": [
    {
     "data": {
      "text/plain": [
       "Designation                   0\n",
       "Passport                      0\n",
       "CityTier                      0\n",
       "MaritalStatus                 0\n",
       "Occupation                    0\n",
       "MonthlyIncome               233\n",
       "Age                         226\n",
       "PreferredPropertyStar        26\n",
       "NumberOfFollowups            45\n",
       "NumberOfPersonVisiting        0\n",
       "NumberOfChildrenVisiting     66\n",
       "ProductPitched                0\n",
       "dtype: int64"
      ]
     },
     "execution_count": 3,
     "metadata": {},
     "output_type": "execute_result"
    }
   ],
   "source": [
    "df_selected.isnull().sum(axis=0)"
   ]
  },
  {
   "cell_type": "code",
   "execution_count": 4,
   "id": "be177ead-18a5-4845-9a41-67f13df84ffb",
   "metadata": {},
   "outputs": [],
   "source": [
    "# Replaced with mean\n",
    "df_selected['Age'].fillna(round(df['Age'].mean()), inplace=True)\n",
    "df_selected['MonthlyIncome'].fillna(round(df['MonthlyIncome'].mean()), inplace=True)\n",
    "\n",
    "# Replaced with median\n",
    "df_selected['NumberOfFollowups'].fillna(df['NumberOfFollowups'].median(), inplace=True)\n",
    "\n",
    "# Replaced with mode\n",
    "df_selected['NumberOfChildrenVisiting'].fillna(df['NumberOfChildrenVisiting'].mode()[0], inplace=True)\n",
    "df_selected['PreferredPropertyStar'].fillna(df['PreferredPropertyStar'].mode()[0], inplace=True)"
   ]
  },
  {
   "cell_type": "code",
   "execution_count": 5,
   "id": "501d6edb-22eb-4420-9e86-185dbba741dc",
   "metadata": {},
   "outputs": [
    {
     "data": {
      "text/plain": [
       "Designation                 0\n",
       "Passport                    0\n",
       "CityTier                    0\n",
       "MaritalStatus               0\n",
       "Occupation                  0\n",
       "MonthlyIncome               0\n",
       "Age                         0\n",
       "PreferredPropertyStar       0\n",
       "NumberOfFollowups           0\n",
       "NumberOfPersonVisiting      0\n",
       "NumberOfChildrenVisiting    0\n",
       "ProductPitched              0\n",
       "dtype: int64"
      ]
     },
     "execution_count": 5,
     "metadata": {},
     "output_type": "execute_result"
    }
   ],
   "source": [
    "df_selected.isnull().sum(axis=0)"
   ]
  },
  {
   "cell_type": "code",
   "execution_count": 6,
   "id": "5b2d7cd6-4718-4301-987e-1de9faae82a9",
   "metadata": {},
   "outputs": [
    {
     "data": {
      "text/plain": [
       "395"
      ]
     },
     "execution_count": 6,
     "metadata": {},
     "output_type": "execute_result"
    }
   ],
   "source": [
    "df_selected.duplicated().sum()"
   ]
  },
  {
   "cell_type": "code",
   "execution_count": 7,
   "id": "80900480-a221-4e01-b7f6-825af690a787",
   "metadata": {},
   "outputs": [
    {
     "name": "stdout",
     "output_type": "stream",
     "text": [
      "Duplicate Checking\n",
      "Before duplicate rows = (4888, 12)\n",
      "After duplicate rows = (4493, 12)\n"
     ]
    }
   ],
   "source": [
    "print('Duplicate Checking')\n",
    "print('Before duplicate rows = ' + str(df_selected.shape))\n",
    "df_selected = df_selected.drop_duplicates()\n",
    "print('After duplicate rows = ' + str(df_selected.shape))"
   ]
  },
  {
   "cell_type": "code",
   "execution_count": 8,
   "id": "46e1acd2-0ed8-48e4-8d2b-39d960a5d859",
   "metadata": {},
   "outputs": [],
   "source": [
    "nums = ['MonthlyIncome', 'Age', 'PreferredPropertyStar', 'NumberOfFollowups', 'NumberOfPersonVisiting', 'NumberOfChildrenVisiting']"
   ]
  },
  {
   "cell_type": "code",
   "execution_count": 9,
   "id": "01c45299-30a2-4820-9612-6363f0894e8d",
   "metadata": {},
   "outputs": [
    {
     "name": "stdout",
     "output_type": "stream",
     "text": [
      "Jumlah baris sebelum memfilter outlier: 4493\n",
      "Jumlah baris setelah memfilter outlier: 4489\n"
     ]
    }
   ],
   "source": [
    "from scipy import stats\n",
    "\n",
    "print(f'Jumlah baris sebelum memfilter outlier: {len(df_selected)}')\n",
    "\n",
    "filtered_entries = np.array([True] * len(df_selected))\n",
    "\n",
    "for col in ['MonthlyIncome', 'NumberOfFollowups', 'NumberOfPersonVisiting']:\n",
    "    zscore = abs(stats.zscore(df_selected[col])) # hitung absolute z-scorenya\n",
    "    filtered_entries = (zscore < 3) & filtered_entries # keep yang kurang dari 3 absolute z-scorenya\n",
    "    \n",
    "df_selected = df_selected[filtered_entries] # filter, cuma ambil yang z-scorenya dibawah 3\n",
    "\n",
    "print(f'Jumlah baris setelah memfilter outlier: {len(df_selected)}')"
   ]
  },
  {
   "cell_type": "code",
   "execution_count": 10,
   "id": "4715dbce-2118-40a8-8701-ee0b9b27ac88",
   "metadata": {},
   "outputs": [],
   "source": [
    "def segment(x):\n",
    "    if x['Passport'] == 1 and x['CityTier'] == 3 and ((x['MaritalStatus'] == 'Single') or (x['MaritalStatus'] == 'Unmarried')) and x['Occupation'] == 'Large Business':\n",
    "        chance = 'High'\n",
    "    elif (x['MonthlyIncome'] >= 15000 and x['MonthlyIncome'] <= 25000) and (x['Age'] >= 15 and x['Age'] <= 30) and x['PreferredPropertyStar'] == 5:\n",
    "        chance = 'High'\n",
    "    else:\n",
    "        chance = 'Low'\n",
    "    return chance"
   ]
  },
  {
   "cell_type": "code",
   "execution_count": 17,
   "id": "e402694e-168b-4a65-9318-e214cf5b82f3",
   "metadata": {},
   "outputs": [
    {
     "data": {
      "text/html": [
       "<div>\n",
       "<style scoped>\n",
       "    .dataframe tbody tr th:only-of-type {\n",
       "        vertical-align: middle;\n",
       "    }\n",
       "\n",
       "    .dataframe tbody tr th {\n",
       "        vertical-align: top;\n",
       "    }\n",
       "\n",
       "    .dataframe thead th {\n",
       "        text-align: right;\n",
       "    }\n",
       "</style>\n",
       "<table border=\"1\" class=\"dataframe\">\n",
       "  <thead>\n",
       "    <tr style=\"text-align: right;\">\n",
       "      <th></th>\n",
       "      <th>Designation</th>\n",
       "      <th>Passport</th>\n",
       "      <th>CityTier</th>\n",
       "      <th>MaritalStatus</th>\n",
       "      <th>Occupation</th>\n",
       "      <th>MonthlyIncome</th>\n",
       "      <th>Age</th>\n",
       "      <th>PreferredPropertyStar</th>\n",
       "      <th>NumberOfFollowups</th>\n",
       "      <th>NumberOfPersonVisiting</th>\n",
       "      <th>NumberOfChildrenVisiting</th>\n",
       "      <th>ProductPitched</th>\n",
       "      <th>Target</th>\n",
       "    </tr>\n",
       "  </thead>\n",
       "  <tbody>\n",
       "    <tr>\n",
       "      <th>0</th>\n",
       "      <td>Manager</td>\n",
       "      <td>1</td>\n",
       "      <td>3</td>\n",
       "      <td>Single</td>\n",
       "      <td>Salaried</td>\n",
       "      <td>20993.0</td>\n",
       "      <td>41.0</td>\n",
       "      <td>3.0</td>\n",
       "      <td>3.0</td>\n",
       "      <td>3</td>\n",
       "      <td>0.0</td>\n",
       "      <td>Deluxe</td>\n",
       "      <td>Low</td>\n",
       "    </tr>\n",
       "    <tr>\n",
       "      <th>1</th>\n",
       "      <td>Manager</td>\n",
       "      <td>0</td>\n",
       "      <td>1</td>\n",
       "      <td>Divorced</td>\n",
       "      <td>Salaried</td>\n",
       "      <td>20130.0</td>\n",
       "      <td>49.0</td>\n",
       "      <td>4.0</td>\n",
       "      <td>4.0</td>\n",
       "      <td>3</td>\n",
       "      <td>2.0</td>\n",
       "      <td>Deluxe</td>\n",
       "      <td>Low</td>\n",
       "    </tr>\n",
       "    <tr>\n",
       "      <th>2</th>\n",
       "      <td>Executive</td>\n",
       "      <td>1</td>\n",
       "      <td>1</td>\n",
       "      <td>Single</td>\n",
       "      <td>Free Lancer</td>\n",
       "      <td>17090.0</td>\n",
       "      <td>37.0</td>\n",
       "      <td>3.0</td>\n",
       "      <td>4.0</td>\n",
       "      <td>3</td>\n",
       "      <td>0.0</td>\n",
       "      <td>Basic</td>\n",
       "      <td>Low</td>\n",
       "    </tr>\n",
       "    <tr>\n",
       "      <th>3</th>\n",
       "      <td>Executive</td>\n",
       "      <td>1</td>\n",
       "      <td>1</td>\n",
       "      <td>Divorced</td>\n",
       "      <td>Salaried</td>\n",
       "      <td>17909.0</td>\n",
       "      <td>33.0</td>\n",
       "      <td>3.0</td>\n",
       "      <td>3.0</td>\n",
       "      <td>2</td>\n",
       "      <td>1.0</td>\n",
       "      <td>Basic</td>\n",
       "      <td>Low</td>\n",
       "    </tr>\n",
       "    <tr>\n",
       "      <th>4</th>\n",
       "      <td>Executive</td>\n",
       "      <td>0</td>\n",
       "      <td>1</td>\n",
       "      <td>Divorced</td>\n",
       "      <td>Small Business</td>\n",
       "      <td>18468.0</td>\n",
       "      <td>38.0</td>\n",
       "      <td>4.0</td>\n",
       "      <td>3.0</td>\n",
       "      <td>2</td>\n",
       "      <td>0.0</td>\n",
       "      <td>Basic</td>\n",
       "      <td>Low</td>\n",
       "    </tr>\n",
       "    <tr>\n",
       "      <th>...</th>\n",
       "      <td>...</td>\n",
       "      <td>...</td>\n",
       "      <td>...</td>\n",
       "      <td>...</td>\n",
       "      <td>...</td>\n",
       "      <td>...</td>\n",
       "      <td>...</td>\n",
       "      <td>...</td>\n",
       "      <td>...</td>\n",
       "      <td>...</td>\n",
       "      <td>...</td>\n",
       "      <td>...</td>\n",
       "      <td>...</td>\n",
       "    </tr>\n",
       "    <tr>\n",
       "      <th>4883</th>\n",
       "      <td>Manager</td>\n",
       "      <td>1</td>\n",
       "      <td>3</td>\n",
       "      <td>Unmarried</td>\n",
       "      <td>Small Business</td>\n",
       "      <td>26576.0</td>\n",
       "      <td>49.0</td>\n",
       "      <td>4.0</td>\n",
       "      <td>5.0</td>\n",
       "      <td>3</td>\n",
       "      <td>1.0</td>\n",
       "      <td>Deluxe</td>\n",
       "      <td>Low</td>\n",
       "    </tr>\n",
       "    <tr>\n",
       "      <th>4884</th>\n",
       "      <td>Executive</td>\n",
       "      <td>1</td>\n",
       "      <td>1</td>\n",
       "      <td>Single</td>\n",
       "      <td>Salaried</td>\n",
       "      <td>21212.0</td>\n",
       "      <td>28.0</td>\n",
       "      <td>3.0</td>\n",
       "      <td>5.0</td>\n",
       "      <td>4</td>\n",
       "      <td>2.0</td>\n",
       "      <td>Basic</td>\n",
       "      <td>Low</td>\n",
       "    </tr>\n",
       "    <tr>\n",
       "      <th>4885</th>\n",
       "      <td>Senior Manager</td>\n",
       "      <td>0</td>\n",
       "      <td>3</td>\n",
       "      <td>Married</td>\n",
       "      <td>Salaried</td>\n",
       "      <td>31820.0</td>\n",
       "      <td>52.0</td>\n",
       "      <td>4.0</td>\n",
       "      <td>4.0</td>\n",
       "      <td>4</td>\n",
       "      <td>3.0</td>\n",
       "      <td>Standard</td>\n",
       "      <td>Low</td>\n",
       "    </tr>\n",
       "    <tr>\n",
       "      <th>4886</th>\n",
       "      <td>Executive</td>\n",
       "      <td>0</td>\n",
       "      <td>3</td>\n",
       "      <td>Single</td>\n",
       "      <td>Small Business</td>\n",
       "      <td>20289.0</td>\n",
       "      <td>19.0</td>\n",
       "      <td>3.0</td>\n",
       "      <td>4.0</td>\n",
       "      <td>3</td>\n",
       "      <td>2.0</td>\n",
       "      <td>Basic</td>\n",
       "      <td>Low</td>\n",
       "    </tr>\n",
       "    <tr>\n",
       "      <th>4887</th>\n",
       "      <td>Executive</td>\n",
       "      <td>1</td>\n",
       "      <td>1</td>\n",
       "      <td>Unmarried</td>\n",
       "      <td>Salaried</td>\n",
       "      <td>24041.0</td>\n",
       "      <td>36.0</td>\n",
       "      <td>4.0</td>\n",
       "      <td>4.0</td>\n",
       "      <td>4</td>\n",
       "      <td>2.0</td>\n",
       "      <td>Basic</td>\n",
       "      <td>Low</td>\n",
       "    </tr>\n",
       "  </tbody>\n",
       "</table>\n",
       "<p>4489 rows × 13 columns</p>\n",
       "</div>"
      ],
      "text/plain": [
       "         Designation  Passport  CityTier MaritalStatus      Occupation  \\\n",
       "0            Manager         1         3        Single        Salaried   \n",
       "1            Manager         0         1      Divorced        Salaried   \n",
       "2          Executive         1         1        Single     Free Lancer   \n",
       "3          Executive         1         1      Divorced        Salaried   \n",
       "4          Executive         0         1      Divorced  Small Business   \n",
       "...              ...       ...       ...           ...             ...   \n",
       "4883         Manager         1         3     Unmarried  Small Business   \n",
       "4884       Executive         1         1        Single        Salaried   \n",
       "4885  Senior Manager         0         3       Married        Salaried   \n",
       "4886       Executive         0         3        Single  Small Business   \n",
       "4887       Executive         1         1     Unmarried        Salaried   \n",
       "\n",
       "      MonthlyIncome   Age  PreferredPropertyStar  NumberOfFollowups  \\\n",
       "0           20993.0  41.0                    3.0                3.0   \n",
       "1           20130.0  49.0                    4.0                4.0   \n",
       "2           17090.0  37.0                    3.0                4.0   \n",
       "3           17909.0  33.0                    3.0                3.0   \n",
       "4           18468.0  38.0                    4.0                3.0   \n",
       "...             ...   ...                    ...                ...   \n",
       "4883        26576.0  49.0                    4.0                5.0   \n",
       "4884        21212.0  28.0                    3.0                5.0   \n",
       "4885        31820.0  52.0                    4.0                4.0   \n",
       "4886        20289.0  19.0                    3.0                4.0   \n",
       "4887        24041.0  36.0                    4.0                4.0   \n",
       "\n",
       "      NumberOfPersonVisiting  NumberOfChildrenVisiting ProductPitched Target  \n",
       "0                          3                       0.0         Deluxe    Low  \n",
       "1                          3                       2.0         Deluxe    Low  \n",
       "2                          3                       0.0          Basic    Low  \n",
       "3                          2                       1.0          Basic    Low  \n",
       "4                          2                       0.0          Basic    Low  \n",
       "...                      ...                       ...            ...    ...  \n",
       "4883                       3                       1.0         Deluxe    Low  \n",
       "4884                       4                       2.0          Basic    Low  \n",
       "4885                       4                       3.0       Standard    Low  \n",
       "4886                       3                       2.0          Basic    Low  \n",
       "4887                       4                       2.0          Basic    Low  \n",
       "\n",
       "[4489 rows x 13 columns]"
      ]
     },
     "execution_count": 17,
     "metadata": {},
     "output_type": "execute_result"
    }
   ],
   "source": [
    "df_clean = df_selected.copy()\n",
    "\n",
    "df_clean['Target'] = df_clean.apply(lambda x: segment(x), axis=1) \n",
    "df_clean"
   ]
  },
  {
   "cell_type": "code",
   "execution_count": 34,
   "id": "c0ee62b9-64ef-4b2c-afe8-db670b7889cc",
   "metadata": {},
   "outputs": [],
   "source": [
    "df_clean['Target'] = df_clean['Target'].apply(lambda x : 1 if x == 'High' else 0)"
   ]
  },
  {
   "cell_type": "code",
   "execution_count": 35,
   "id": "f0f388ff-9720-44f9-8c32-8dac8c59e3a4",
   "metadata": {},
   "outputs": [
    {
     "name": "stdout",
     "output_type": "stream",
     "text": [
      "<class 'pandas.core.frame.DataFrame'>\n",
      "Int64Index: 4489 entries, 0 to 4887\n",
      "Data columns (total 13 columns):\n",
      " #   Column                    Non-Null Count  Dtype  \n",
      "---  ------                    --------------  -----  \n",
      " 0   Designation               4489 non-null   object \n",
      " 1   Passport                  4489 non-null   int64  \n",
      " 2   CityTier                  4489 non-null   int64  \n",
      " 3   MaritalStatus             4489 non-null   object \n",
      " 4   Occupation                4489 non-null   object \n",
      " 5   MonthlyIncome             4489 non-null   float64\n",
      " 6   Age                       4489 non-null   float64\n",
      " 7   PreferredPropertyStar     4489 non-null   float64\n",
      " 8   NumberOfFollowups         4489 non-null   float64\n",
      " 9   NumberOfPersonVisiting    4489 non-null   int64  \n",
      " 10  NumberOfChildrenVisiting  4489 non-null   float64\n",
      " 11  ProductPitched            4489 non-null   object \n",
      " 12  Target                    4489 non-null   int64  \n",
      "dtypes: float64(5), int64(4), object(4)\n",
      "memory usage: 491.0+ KB\n"
     ]
    }
   ],
   "source": [
    "df_clean.info()"
   ]
  },
  {
   "cell_type": "code",
   "execution_count": 36,
   "id": "0d89a844-d7b1-4efd-ba27-3ce1b11eef08",
   "metadata": {},
   "outputs": [],
   "source": [
    "features = ['Passport','CityTier','MonthlyIncome','PreferredPropertyStar','NumberOfFollowups','NumberOfPersonVisiting','NumberOfChildrenVisiting']"
   ]
  },
  {
   "cell_type": "code",
   "execution_count": 37,
   "id": "cea9672d-b37b-4be9-b6b2-878fc83f3d39",
   "metadata": {},
   "outputs": [],
   "source": [
    "X = df_clean[features] # menggunakan semua feature kecuali target\n",
    "y = df_clean['Target']"
   ]
  },
  {
   "cell_type": "code",
   "execution_count": 38,
   "id": "543fbf44-3a5c-457d-a19a-c38c86a7fa27",
   "metadata": {},
   "outputs": [],
   "source": [
    "#Splitting the data into Train and Test\n",
    "from sklearn.model_selection import train_test_split \n",
    "X_train, X_test, y_train, y_test = train_test_split(X, y, test_size = 0.3, random_state = 42)"
   ]
  },
  {
   "cell_type": "markdown",
   "id": "0a527fb3-0604-4fca-9690-62c75cb3b2d5",
   "metadata": {},
   "source": [
    "# KNN"
   ]
  },
  {
   "cell_type": "code",
   "execution_count": 56,
   "id": "e62437cf-ee1f-47d4-b1d1-ba37bba549fa",
   "metadata": {},
   "outputs": [
    {
     "data": {
      "text/plain": [
       "KNeighborsClassifier()"
      ]
     },
     "execution_count": 56,
     "metadata": {},
     "output_type": "execute_result"
    }
   ],
   "source": [
    "from sklearn.neighbors import KNeighborsClassifier# import knn dari sklearn\n",
    "knn = KNeighborsClassifier() # inisiasi object dengan nama knn\n",
    "knn.fit(X_train, y_train) # fit model KNN dari data train"
   ]
  },
  {
   "cell_type": "code",
   "execution_count": 57,
   "id": "75e04a4b-1234-48f5-a10c-e01cf303ed9f",
   "metadata": {},
   "outputs": [
    {
     "name": "stdout",
     "output_type": "stream",
     "text": [
      "Accuracy (Test Set): 0.96\n",
      "Precision (Test Set): 0.53\n",
      "Recall (Test Set): 0.60\n",
      "F1-Score (Test Set): 0.56\n",
      "AUC: 0.79\n"
     ]
    }
   ],
   "source": [
    "y_pred = model.predict(X_test)\n",
    "y_proba = model.predict_proba(X_test)\n",
    "y_proba = y_proba[:,1]\n",
    "eval_classification(model, y_pred, y_proba, X_train, y_train, X_test, y_test)"
   ]
  },
  {
   "cell_type": "markdown",
   "id": "ac405102-9144-4438-a7df-3c339f8109ba",
   "metadata": {},
   "source": [
    "# Random Forrest"
   ]
  },
  {
   "cell_type": "code",
   "execution_count": 49,
   "id": "0e6a0d88-8c2b-4dbd-a502-919454961907",
   "metadata": {},
   "outputs": [
    {
     "name": "stdout",
     "output_type": "stream",
     "text": [
      "MAE: 0.05\n",
      "RMSE: 0.16\n",
      "R2 score: 0.31\n"
     ]
    }
   ],
   "source": [
    "from sklearn.ensemble import RandomForestRegressor\n",
    "\n",
    "rf = RandomForestRegressor()\n",
    "rf.fit(X_train, y_train)\n",
    "pred = rf.predict(X_test)\n",
    "eval_regression(rf, pred, X_train, y_train, X_test, y_test)"
   ]
  },
  {
   "cell_type": "markdown",
   "id": "89f922bc-a926-4e4c-ae94-87ccf218df75",
   "metadata": {},
   "source": [
    "# Lasso "
   ]
  },
  {
   "cell_type": "code",
   "execution_count": 47,
   "id": "13b4ddda-c600-4142-9b60-77aaf5006443",
   "metadata": {},
   "outputs": [
    {
     "name": "stdout",
     "output_type": "stream",
     "text": [
      "MAE: 0.09\n",
      "RMSE: 0.19\n",
      "R2 score: 0.00\n"
     ]
    }
   ],
   "source": [
    "from sklearn.linear_model import Lasso\n",
    "lasso_model = Lasso()\n",
    "lasso_model.fit(X_train, y_train)\n",
    "\n",
    "pred = lasso_model.predict(X_test)\n",
    "eval_regression(lasso_model, pred, X_train, y_train, X_test, y_test)"
   ]
  },
  {
   "cell_type": "markdown",
   "id": "2498f7ca-7975-4b1f-9743-23e26a762e78",
   "metadata": {},
   "source": [
    "# Ridge"
   ]
  },
  {
   "cell_type": "code",
   "execution_count": 52,
   "id": "0df1ffb6-9d61-49a8-b788-0bbf0c5d4b70",
   "metadata": {},
   "outputs": [
    {
     "name": "stdout",
     "output_type": "stream",
     "text": [
      "MAE: 0.09\n",
      "RMSE: 0.19\n",
      "R2 score: 0.00\n"
     ]
    }
   ],
   "source": [
    "from sklearn.linear_model import Lasso\n",
    "lasso_model = Lasso()\n",
    "lasso_model.fit(X_train, y_train)\n",
    "\n",
    "pred = lasso_model.predict(X_test)\n",
    "eval_regression(lasso_model, pred, X_train, y_train, X_test, y_test)"
   ]
  },
  {
   "cell_type": "markdown",
   "id": "24898365-9af2-4437-bf20-b59934a1b4bb",
   "metadata": {},
   "source": [
    "# Elastic Net"
   ]
  },
  {
   "cell_type": "code",
   "execution_count": 54,
   "id": "7a0d114f-7434-4005-a35b-e4cccf072062",
   "metadata": {},
   "outputs": [
    {
     "name": "stdout",
     "output_type": "stream",
     "text": [
      "MAE: 0.09\n",
      "RMSE: 0.19\n",
      "R2 score: 0.00\n"
     ]
    }
   ],
   "source": [
    "from sklearn.linear_model import ElasticNet\n",
    "\n",
    "elasticnet_model = ElasticNet()\n",
    "elasticnet_model.fit(X_train, y_train)\n",
    "\n",
    "pred = elasticnet_model.predict(X_test)\n",
    "eval_regression(elasticnet_model, pred, X_train, y_train, X_test, y_test)"
   ]
  },
  {
   "cell_type": "markdown",
   "id": "857b299f-2196-4e54-82e7-a924ccf20a87",
   "metadata": {},
   "source": [
    "# Decision Tree"
   ]
  },
  {
   "cell_type": "code",
   "execution_count": 50,
   "id": "5db4126a-dadd-49c4-893b-8bfd14d0ebf6",
   "metadata": {},
   "outputs": [
    {
     "name": "stdout",
     "output_type": "stream",
     "text": [
      "Accuracy (Test Set): 0.96\n",
      "Precision (Test Set): 0.53\n",
      "Recall (Test Set): 0.60\n",
      "F1-Score (Test Set): 0.56\n",
      "AUC: 0.79\n"
     ]
    }
   ],
   "source": [
    "from sklearn.tree import DecisionTreeClassifier\n",
    "model = DecisionTreeClassifier(random_state=42)\n",
    "model.fit(X_train,y_train)\n",
    "\n",
    "y_pred = model.predict(X_test)\n",
    "y_proba = model.predict_proba(X_test)\n",
    "y_proba = y_proba[:,1]\n",
    "eval_classification(model, y_pred, y_proba, X_train, y_train, X_test, y_test)"
   ]
  },
  {
   "cell_type": "code",
   "execution_count": 53,
   "id": "2fc9b347-fa1e-4e08-8789-113ce2ca2e73",
   "metadata": {},
   "outputs": [
    {
     "name": "stdout",
     "output_type": "stream",
     "text": [
      "Train score: 0.9987269255251432\n",
      "Test score:0.9643652561247216\n"
     ]
    }
   ],
   "source": [
    "print('Train score: ' + str(model.score(X_train, y_train))) #accuracy\n",
    "print('Test score:' + str(model.score(X_test, y_test))) #accuracy"
   ]
  },
  {
   "cell_type": "markdown",
   "id": "ecdad3ae-d1ee-4213-9315-48cbd8eab90b",
   "metadata": {},
   "source": [
    "# Decision Tree"
   ]
  },
  {
   "cell_type": "code",
   "execution_count": 41,
   "id": "c711fe09-98e2-4f2a-9679-16d00780a23c",
   "metadata": {},
   "outputs": [
    {
     "name": "stdout",
     "output_type": "stream",
     "text": [
      "MAE: 0.04\n",
      "RMSE: 0.19\n",
      "R2 score: 0.04\n"
     ]
    }
   ],
   "source": [
    "from sklearn.metrics import mean_squared_error, mean_absolute_error, r2_score\n",
    "def eval_regression(model, pred, xtrain, ytrain, xtest, ytest):\n",
    "    print(\"MAE: %.2f\" % mean_absolute_error(ytest, pred)) # The MAE\n",
    "    print(\"RMSE: %.2f\" % mean_squared_error(ytest, pred, squared=False)) # The RMSE\n",
    "    print('R2 score: %.2f' % r2_score(ytest, pred)) # Explained variance score: 1 is perfect prediction\n",
    "from sklearn.tree import DecisionTreeRegressor\n",
    "\n",
    "dt = DecisionTreeRegressor()\n",
    "dt.fit(X_train, y_train)\n",
    "pred = dt.predict(X_test)\n",
    "eval_regression(dt, pred, X_train, y_train, X_test, y_test)"
   ]
  },
  {
   "cell_type": "code",
   "execution_count": null,
   "id": "08b18ba3-c418-4624-a6a4-33a0f517412e",
   "metadata": {},
   "outputs": [],
   "source": []
  },
  {
   "cell_type": "code",
   "execution_count": null,
   "id": "51c777d4-f5c2-4c6c-9579-fe2371fb77c0",
   "metadata": {},
   "outputs": [],
   "source": []
  }
 ],
 "metadata": {
  "kernelspec": {
   "display_name": "Python 3",
   "language": "python",
   "name": "python3"
  },
  "language_info": {
   "codemirror_mode": {
    "name": "ipython",
    "version": 3
   },
   "file_extension": ".py",
   "mimetype": "text/x-python",
   "name": "python",
   "nbconvert_exporter": "python",
   "pygments_lexer": "ipython3",
   "version": "3.8.8"
  }
 },
 "nbformat": 4,
 "nbformat_minor": 5
}
